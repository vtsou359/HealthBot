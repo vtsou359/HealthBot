{
 "cells": [
  {
   "cell_type": "code",
   "id": "initial_id",
   "metadata": {
    "collapsed": true,
    "ExecuteTime": {
     "end_time": "2025-07-10T10:12:56.748593Z",
     "start_time": "2025-07-10T10:12:44.588629Z"
    }
   },
   "source": "from src.fncs.nodes import *",
   "outputs": [
    {
     "name": "stderr",
     "output_type": "stream",
     "text": [
      "/Users/vassilistsoubris/PycharmProjects/HealthBot/.venv/lib/python3.12/site-packages/tqdm/auto.py:21: TqdmWarning: IProgress not found. Please update jupyter and ipywidgets. See https://ipywidgets.readthedocs.io/en/stable/user_install.html\n",
      "  from .autonotebook import tqdm as notebook_tqdm\n",
      "/Users/vassilistsoubris/PycharmProjects/HealthBot/src/fncs/nodes.py:23: LangChainDeprecationWarning: The class `TavilySearchResults` was deprecated in LangChain 0.3.25 and will be removed in 1.0. An updated version of the class exists in the :class:`~langchain-tavily package and should be used instead. To use it run `pip install -U :class:`~langchain-tavily` and import as `from :class:`~langchain_tavily import TavilySearch``.\n",
      "  search_tool = TavilySearchResults(max_results=5)\n"
     ]
    }
   ],
   "execution_count": 1
  },
  {
   "metadata": {
    "ExecuteTime": {
     "end_time": "2025-07-10T10:13:18.595384Z",
     "start_time": "2025-07-10T10:13:18.565863Z"
    }
   },
   "cell_type": "code",
   "source": [
    "workflow = StateGraph(state_schema=HealthBotState)\n",
    "\n",
    "# Add nodes\n",
    "workflow.add_node(\"ask_health_topic\", ask_health_topic)\n",
    "workflow.add_node(\"search_health_info\", search_health_info)\n",
    "workflow.add_node(\"summarize_health_info\", summarize_health_info)\n",
    "workflow.add_node(\"present_summary\", present_summary)\n",
    "workflow.add_node(\"prompt_for_quiz\", prompt_for_quiz)\n",
    "workflow.add_node(\"create_quiz_questions\", create_quiz_questions)\n",
    "workflow.add_node(\"present_quiz_question\", present_quiz_question)\n",
    "workflow.add_node(\"collect_quiz_answer\", collect_quiz_answer)\n",
    "workflow.add_node(\"grade_quiz_answer\", grade_quiz_answer)\n",
    "workflow.add_node(\"present_feedback\", present_feedback)\n",
    "workflow.add_node(\"suggest_related_topics\", suggest_related_topics)\n",
    "workflow.add_node(\"ask_next_action\", ask_next_action)\n",
    "workflow.add_node(\"end_conversation\", end_conversation)\n",
    "workflow.add_node(\"router\", router)\n",
    "\n",
    "# Add edges\n",
    "workflow.add_edge(START, \"ask_health_topic\")\n",
    "workflow.add_edge(\"ask_health_topic\", \"search_health_info\")\n",
    "workflow.add_edge(\"search_health_info\", \"summarize_health_info\")\n",
    "workflow.add_edge(\"summarize_health_info\", \"present_summary\")\n",
    "workflow.add_edge(\"present_summary\", \"prompt_for_quiz\")\n",
    "workflow.add_edge(\"prompt_for_quiz\", \"create_quiz_questions\")\n",
    "workflow.add_edge(\"create_quiz_questions\", \"present_quiz_question\")\n",
    "workflow.add_edge(\"present_quiz_question\", \"collect_quiz_answer\")\n",
    "workflow.add_edge(\"collect_quiz_answer\", \"grade_quiz_answer\")\n",
    "workflow.add_edge(\"grade_quiz_answer\", \"present_feedback\")\n",
    "workflow.add_edge(\"present_feedback\", \"router\")\n",
    "workflow.add_edge(\"suggest_related_topics\", \"ask_next_action\")\n",
    "workflow.add_edge(\"ask_next_action\", \"router\")\n",
    "\n",
    "# Add conditional edges\n",
    "workflow.add_conditional_edges(\n",
    "    \"router\",\n",
    "    {\n",
    "        \"ask_health_topic\": lambda state: state.get(\"next_action\") == \"new_topic\",\n",
    "        \"suggest_related_topics\": lambda state: state.get(\"quiz_ready\") is False,\n",
    "        \"present_quiz_question\": lambda state: state.get(\"quiz_ready\") and state.get(\"current_question_index\", 0) < state.get(\"num_questions\", 1),\n",
    "        \"end_conversation\": lambda state: state.get(\"next_action\") == \"exit\",\n",
    "    }\n",
    ")\n",
    "\n",
    "workflow.add_edge(\"end_conversation\", END)\n",
    "\n",
    "# Compile the workflow\n",
    "graph = workflow.compile()"
   ],
   "id": "b7feb67fe2a85b1f",
   "outputs": [],
   "execution_count": 2
  },
  {
   "metadata": {
    "ExecuteTime": {
     "end_time": "2025-07-10T10:35:02.224285Z",
     "start_time": "2025-07-10T10:35:02.215195Z"
    }
   },
   "cell_type": "code",
   "source": "graph.nodes",
   "id": "d7222360fa41cdd7",
   "outputs": [
    {
     "data": {
      "text/plain": [
       "{'__start__': <langgraph.pregel.read.PregelNode at 0x113585460>,\n",
       " 'ask_health_topic': <langgraph.pregel.read.PregelNode at 0x11339c800>,\n",
       " 'search_health_info': <langgraph.pregel.read.PregelNode at 0x11324b9e0>,\n",
       " 'summarize_health_info': <langgraph.pregel.read.PregelNode at 0x1135720c0>,\n",
       " 'present_summary': <langgraph.pregel.read.PregelNode at 0x112fe03b0>,\n",
       " 'prompt_for_quiz': <langgraph.pregel.read.PregelNode at 0x113359370>,\n",
       " 'create_quiz_questions': <langgraph.pregel.read.PregelNode at 0x113572630>,\n",
       " 'present_quiz_question': <langgraph.pregel.read.PregelNode at 0x1132138f0>,\n",
       " 'collect_quiz_answer': <langgraph.pregel.read.PregelNode at 0x113212f30>,\n",
       " 'grade_quiz_answer': <langgraph.pregel.read.PregelNode at 0x11324b920>,\n",
       " 'present_feedback': <langgraph.pregel.read.PregelNode at 0x10bc6c200>,\n",
       " 'suggest_related_topics': <langgraph.pregel.read.PregelNode at 0x112db40b0>,\n",
       " 'ask_next_action': <langgraph.pregel.read.PregelNode at 0x11339d070>,\n",
       " 'end_conversation': <langgraph.pregel.read.PregelNode at 0x112fe0230>,\n",
       " 'router': <langgraph.pregel.read.PregelNode at 0x113585fa0>}"
      ]
     },
     "execution_count": 4,
     "metadata": {},
     "output_type": "execute_result"
    }
   ],
   "execution_count": 4
  },
  {
   "metadata": {
    "ExecuteTime": {
     "end_time": "2025-07-10T10:46:50.768246Z",
     "start_time": "2025-07-10T10:46:50.765767Z"
    }
   },
   "cell_type": "code",
   "source": "",
   "id": "9c63249f10fe9150",
   "outputs": [],
   "execution_count": null
  },
  {
   "metadata": {},
   "cell_type": "code",
   "outputs": [],
   "execution_count": null,
   "source": "",
   "id": "f3f33d888eb522b7"
  }
 ],
 "metadata": {
  "kernelspec": {
   "display_name": "Python 3",
   "language": "python",
   "name": "python3"
  },
  "language_info": {
   "codemirror_mode": {
    "name": "ipython",
    "version": 2
   },
   "file_extension": ".py",
   "mimetype": "text/x-python",
   "name": "python",
   "nbconvert_exporter": "python",
   "pygments_lexer": "ipython2",
   "version": "2.7.6"
  }
 },
 "nbformat": 4,
 "nbformat_minor": 5
}
