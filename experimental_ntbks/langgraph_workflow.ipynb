{
 "cells": [
  {
   "cell_type": "code",
   "metadata": {
    "ExecuteTime": {
     "end_time": "2025-06-27T17:33:09.436376Z",
     "start_time": "2025-06-27T17:33:09.431229Z"
    }
   },
   "source": [
    "import random\n",
    "from typing import TypedDict\n",
    "from langgraph.graph import StateGraph, START, END\n",
    "from langchain_core.messages import HumanMessage, SystemMessage\n",
    "from langchain_openai import ChatOpenAI\n",
    "from IPython.display import Image, display"
   ],
   "outputs": [],
   "execution_count": 3
  },
  {
   "cell_type": "markdown",
   "metadata": {},
   "source": [
    "**Data Processing (Sequential)** "
   ]
  },
  {
   "cell_type": "code",
   "metadata": {
    "ExecuteTime": {
     "end_time": "2025-06-27T17:33:11.881626Z",
     "start_time": "2025-06-27T17:33:11.876042Z"
    }
   },
   "source": [
    "class State(TypedDict):\n",
    "    input: int\n",
    "    output: int"
   ],
   "outputs": [],
   "execution_count": 4
  },
  {
   "cell_type": "code",
   "metadata": {
    "ExecuteTime": {
     "end_time": "2025-06-27T17:33:12.535330Z",
     "start_time": "2025-06-27T17:33:12.528698Z"
    }
   },
   "source": [
    "def node_a(state: State)->State:\n",
    "    input_value = state['input']\n",
    "    offset = random.randint(1,10)\n",
    "    output =  input_value + offset\n",
    "    print(\n",
    "        f\"NODE A:\\n \"\n",
    "        f\"->input:{input_value}\\n \" \n",
    "        f\"->offset:{offset}\\n \"\n",
    "        f\"->output:{output}\\n \"\n",
    "    )\n",
    "    return State(output=output)\n"
   ],
   "outputs": [],
   "execution_count": 5
  },
  {
   "cell_type": "code",
   "metadata": {
    "ExecuteTime": {
     "end_time": "2025-06-27T17:33:13.216470Z",
     "start_time": "2025-06-27T17:33:13.211631Z"
    }
   },
   "source": [
    "def node_b(state: State):\n",
    "    input_value = state['output']\n",
    "    offset = random.randint(1,10)\n",
    "    output =  input_value + offset\n",
    "    print(\n",
    "        f\"NODE B:\\n \"\n",
    "        f\"->input:{input_value}\\n \" \n",
    "        f\"->offset:{offset}\\n \"\n",
    "        f\"->output:{output}\\n \"\n",
    "    )\n",
    "    return {\"output\": output}"
   ],
   "outputs": [],
   "execution_count": 6
  },
  {
   "cell_type": "code",
   "metadata": {
    "ExecuteTime": {
     "end_time": "2025-06-27T17:33:15.152626Z",
     "start_time": "2025-06-27T17:33:15.147274Z"
    }
   },
   "source": [
    "workflow = StateGraph(state_schema=State)"
   ],
   "outputs": [],
   "execution_count": 7
  },
  {
   "cell_type": "code",
   "metadata": {
    "ExecuteTime": {
     "end_time": "2025-06-27T17:33:16.375883Z",
     "start_time": "2025-06-27T17:33:16.370290Z"
    }
   },
   "source": [
    "workflow.add_node(node_a)\n",
    "workflow.add_node(node_b)"
   ],
   "outputs": [],
   "execution_count": 8
  },
  {
   "cell_type": "code",
   "metadata": {
    "ExecuteTime": {
     "end_time": "2025-06-27T17:33:16.948054Z",
     "start_time": "2025-06-27T17:33:16.942303Z"
    }
   },
   "source": [
    "workflow.add_edge(START, \"node_a\")\n",
    "workflow.add_edge(\"node_a\", \"node_b\")\n",
    "workflow.add_edge(\"node_b\", END)"
   ],
   "outputs": [],
   "execution_count": 9
  },
  {
   "cell_type": "code",
   "metadata": {
    "ExecuteTime": {
     "end_time": "2025-06-27T17:33:18.231327Z",
     "start_time": "2025-06-27T17:33:18.225917Z"
    }
   },
   "source": [
    "graph = workflow.compile()"
   ],
   "outputs": [],
   "execution_count": 10
  },
  {
   "cell_type": "code",
   "metadata": {
    "ExecuteTime": {
     "end_time": "2025-06-27T17:35:47.275334Z",
     "start_time": "2025-06-27T17:33:19.560025Z"
    }
   },
   "source": [
    "display(\n",
    "    Image(\n",
    "        graph.get_graph().draw_mermaid_png()\n",
    "    )\n",
    ")"
   ],
   "outputs": [
    {
     "data": {
      "image/jpeg": "[encoded data removed]",
      "text/plain": [
       "<IPython.core.display.Image object>"
      ]
     },
     "metadata": {},
     "output_type": "display_data"
    }
   ],
   "execution_count": 11
  },
  {
   "cell_type": "code",
   "metadata": {
    "ExecuteTime": {
     "end_time": "2025-06-27T17:36:30.126805Z",
     "start_time": "2025-06-27T17:36:30.058277Z"
    }
   },
   "source": [
    "graph.invoke(\n",
    "    input = {\n",
    "        \"input\": 1,\n",
    "    }, \n",
    ")"
   ],
   "outputs": [
    {
     "name": "stdout",
     "output_type": "stream",
     "text": [
      "NODE A:\n",
      " ->input:1\n",
      " ->offset:5\n",
      " ->output:6\n",
      " \n",
      "NODE B:\n",
      " ->input:6\n",
      " ->offset:5\n",
      " ->output:11\n",
      " \n"
     ]
    },
    {
     "data": {
      "text/plain": [
       "{'input': 1, 'output': 11}"
      ]
     },
     "execution_count": 12,
     "metadata": {},
     "output_type": "execute_result"
    }
   ],
   "execution_count": 12
  },
  {
   "cell_type": "markdown",
   "metadata": {},
   "source": [
    "**Call LLMs**"
   ]
  },
  {
   "cell_type": "code",
   "metadata": {
    "ExecuteTime": {
     "end_time": "2025-06-27T17:37:06.232265Z",
     "start_time": "2025-06-27T17:37:06.223742Z"
    }
   },
   "source": [
    "from dotenv import load_dotenv\n",
    "load_dotenv()"
   ],
   "outputs": [
    {
     "data": {
      "text/plain": [
       "True"
      ]
     },
     "execution_count": 14,
     "metadata": {},
     "output_type": "execute_result"
    }
   ],
   "execution_count": 14
  },
  {
   "cell_type": "code",
   "metadata": {
    "ExecuteTime": {
     "end_time": "2025-06-27T17:37:15.777414Z",
     "start_time": "2025-06-27T17:37:12.715082Z"
    }
   },
   "source": [
    "llm = ChatOpenAI(\n",
    "    model=\"gpt-4o-mini\",\n",
    "    temperature=0.0,\n",
    ")"
   ],
   "outputs": [],
   "execution_count": 15
  },
  {
   "cell_type": "code",
   "metadata": {
    "ExecuteTime": {
     "end_time": "2025-06-27T17:39:43.078879Z",
     "start_time": "2025-06-27T17:39:43.073078Z"
    }
   },
   "source": [
    "class State(TypedDict):\n",
    "    question:str\n",
    "    response:str"
   ],
   "outputs": [],
   "execution_count": 16
  },
  {
   "cell_type": "code",
   "metadata": {
    "ExecuteTime": {
     "end_time": "2025-06-27T17:39:45.018141Z",
     "start_time": "2025-06-27T17:39:45.012836Z"
    }
   },
   "source": [
    "def model(state: State):\n",
    "    question = state[\"question\"]\n",
    "    response = llm.invoke([\n",
    "        SystemMessage(\"You're a Pokémon specialist\"),\n",
    "        HumanMessage(question)\n",
    "    ])\n",
    "\n",
    "    return {\"response\": response.content}"
   ],
   "outputs": [],
   "execution_count": 17
  },
  {
   "cell_type": "code",
   "metadata": {
    "ExecuteTime": {
     "end_time": "2025-06-27T17:39:47.405874Z",
     "start_time": "2025-06-27T17:39:47.401415Z"
    }
   },
   "source": [
    "workflow = StateGraph(State)"
   ],
   "outputs": [],
   "execution_count": 18
  },
  {
   "cell_type": "code",
   "metadata": {
    "ExecuteTime": {
     "end_time": "2025-06-27T17:39:50.454073Z",
     "start_time": "2025-06-27T17:39:50.447958Z"
    }
   },
   "source": [
    "workflow.add_node(\"model\", model)"
   ],
   "outputs": [],
   "execution_count": 19
  },
  {
   "cell_type": "code",
   "metadata": {
    "ExecuteTime": {
     "end_time": "2025-06-27T17:39:52.279123Z",
     "start_time": "2025-06-27T17:39:52.273667Z"
    }
   },
   "source": [
    "workflow.add_edge(START, \"model\")\n",
    "workflow.add_edge(\"model\", END)"
   ],
   "outputs": [],
   "execution_count": 20
  },
  {
   "cell_type": "code",
   "metadata": {
    "ExecuteTime": {
     "end_time": "2025-06-27T17:39:54.222311Z",
     "start_time": "2025-06-27T17:39:54.216806Z"
    }
   },
   "source": [
    "graph = workflow.compile()"
   ],
   "outputs": [],
   "execution_count": 21
  },
  {
   "cell_type": "code",
   "metadata": {
    "ExecuteTime": {
     "end_time": "2025-06-27T17:42:23.590288Z",
     "start_time": "2025-06-27T17:39:55.945415Z"
    }
   },
   "source": [
    "display(\n",
    "    Image(\n",
    "        graph.get_graph().draw_mermaid_png()\n",
    "    )\n",
    ")"
   ],
   "outputs": [
    {
     "data": {
      "image/jpeg": "[encoded data removed]",
      "text/plain": [
       "<IPython.core.display.Image object>"
      ]
     },
     "metadata": {},
     "output_type": "display_data"
    }
   ],
   "execution_count": 22
  },
  {
   "cell_type": "code",
   "metadata": {
    "ExecuteTime": {
     "end_time": "2025-06-27T17:42:26.377121Z",
     "start_time": "2025-06-27T17:42:23.724518Z"
    }
   },
   "source": [
    "result = graph.invoke(\n",
    "    input={\n",
    "        \"question\": \"What's the name of Ash's first pokémon?\"\n",
    "    }, \n",
    ")"
   ],
   "outputs": [],
   "execution_count": 23
  },
  {
   "cell_type": "code",
   "metadata": {
    "ExecuteTime": {
     "end_time": "2025-06-27T17:42:26.397473Z",
     "start_time": "2025-06-27T17:42:26.392399Z"
    }
   },
   "source": [
    "result"
   ],
   "outputs": [
    {
     "data": {
      "text/plain": [
       "{'question': \"What's the name of Ash's first pokémon?\",\n",
       " 'response': \"Ash's first Pokémon is Pikachu. He received Pikachu from Professor Oak at the beginning of his journey in the Pokémon anime series.\"}"
      ]
     },
     "execution_count": 24,
     "metadata": {},
     "output_type": "execute_result"
    }
   ],
   "execution_count": 24
  },
  {
   "cell_type": "code",
   "execution_count": null,
   "metadata": {},
   "outputs": [],
   "source": []
  }
 ],
 "metadata": {
  "kernelspec": {
   "display_name": "Python 3 (ipykernel)",
   "language": "python",
   "name": "python3"
  },
  "language_info": {
   "codemirror_mode": {
    "name": "ipython",
    "version": 3
   },
   "file_extension": ".py",
   "mimetype": "text/x-python",
   "name": "python",
   "nbconvert_exporter": "python",
   "pygments_lexer": "ipython3",
   "version": "3.10.13"
  }
 },
 "nbformat": 4,
 "nbformat_minor": 2
}
